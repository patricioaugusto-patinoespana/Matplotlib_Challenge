{
 "cells": [
  {
   "cell_type": "markdown",
   "metadata": {},
   "source": [
    "# Pymaceuticals Inc.\n",
    "---\n",
    "\n",
    "### Analysis\n",
    "\n",
    "- In this Data we are going to analyze to CSV for the behavior of several Drug Regimen, how they impact in the Tumor Volume of the mice that are in the treatment. In this Data we found that Campulin and Ramicane have more effectivity in the treatmet, and Ketapril and Naftisol have the lower effectivity in the treatment, so with all the data we have, we analyze the behavior for 40 days, and Campulin has good efectivity in the treatment, and when we analyze only Campulin we saw a significant decrease in the tumor volume after 20 days, and also we know that if the mouse has more weight, the tumor volume is bigger. \n",
    " "
   ]
  },
  {
   "cell_type": "code",
   "execution_count": null,
   "metadata": {
    "tags": []
   },
   "outputs": [],
   "source": [
    "# Dependencies and Setup\n",
    "import matplotlib.pyplot as plt\n",
    "import pandas as pd\n",
    "import scipy.stats as st\n",
    "\n",
    "# Study data files\n",
    "mouse_metadata_path = \"data/Mouse_metadata.csv\"\n",
    "study_results_path = \"data/Study_results.csv\"\n",
    "\n",
    "# Read the mouse data and the study results\n",
    "mouse_metadata = pd.read_csv(mouse_metadata_path)\n",
    "study_results = pd.read_csv(study_results_path)\n",
    "\n",
    "# Combine the data into a single DataFrame\n",
    "combined_mouse_study = pd.merge(study_results, mouse_metadata, how=\"left\", on=\"Mouse ID\")\n",
    "\n",
    "# Display the data table for preview\n",
    "combined_mouse_study.head()\n"
   ]
  },
  {
   "cell_type": "code",
   "execution_count": null,
   "metadata": {
    "tags": []
   },
   "outputs": [],
   "source": [
    "# Checking the number of mice.\n",
    "number_mice = len(combined_mouse_study[\"Mouse ID\"].unique())\n",
    "\n",
    "# Display the data table\n",
    "number_mice\n"
   ]
  },
  {
   "cell_type": "code",
   "execution_count": null,
   "metadata": {
    "tags": []
   },
   "outputs": [],
   "source": [
    "# Our data should be uniquely identified by Mouse ID and Timepoint\n",
    "# Get the duplicate mice by ID number that shows up for Mouse ID and Timepoint.\n",
    "mouse_id_timepoint = combined_mouse_study[combined_mouse_study.duplicated(subset=[\"Mouse ID\", \"Timepoint\"], keep=False)]\n"
   ]
  },
  {
   "cell_type": "code",
   "execution_count": null,
   "metadata": {
    "tags": []
   },
   "outputs": [],
   "source": [
    "# Optional: Get all the data for the duplicate mouse ID.\n",
    "mouse_id_duplicate = mouse_id_timepoint[\"Mouse ID\"].unique()\n",
    "mouse_duplicate = combined_mouse_study[combined_mouse_study[\"Mouse ID\"].isin(mouse_id_duplicate)]\n",
    "\n",
    "# Display the data table\n",
    "mouse_duplicate.head()\n"
   ]
  },
  {
   "cell_type": "code",
   "execution_count": null,
   "metadata": {
    "tags": []
   },
   "outputs": [],
   "source": [
    "# Create a clean DataFrame by dropping the duplicate mouse by its ID.\n",
    "mouse_no_duplicate = combined_mouse_study[~combined_mouse_study[\"Mouse ID\"].isin(mouse_id_duplicate)]\n",
    "\n",
    "# Display the data table\n",
    "mouse_no_duplicate.head()\n"
   ]
  },
  {
   "cell_type": "code",
   "execution_count": null,
   "metadata": {
    "tags": []
   },
   "outputs": [],
   "source": [
    "# Checking the number of mice in the clean DataFrame.\n",
    "number_mice_no_duplicate = len(mouse_no_duplicate[\"Mouse ID\"].unique())\n",
    "\n",
    "number_mice_no_duplicate\n"
   ]
  },
  {
   "cell_type": "markdown",
   "metadata": {},
   "source": [
    "## Summary Statistics"
   ]
  },
  {
   "cell_type": "code",
   "execution_count": null,
   "metadata": {
    "tags": []
   },
   "outputs": [],
   "source": [
    "# Generate a summary statistics table of mean, median, variance, standard deviation, and SEM of the tumor volume for each regimen\n",
    "\n",
    "# Use groupby and summary statistical methods to calculate the following properties of each drug regimen:\n",
    "# mean, median, variance, standard deviation, and SEM of the tumor volume.\n",
    "summary_statistics = combined_mouse_study.groupby(\"Drug Regimen\")[\"Tumor Volume (mm3)\"].agg(['mean', 'median', 'var', 'std', 'sem'])\n",
    "\n",
    "summary_statistics = summary_statistics.rename(columns={\n",
    "    'mean': 'Mean Tumor Volume',\n",
    "    'median': 'Median Tumor Volume',\n",
    "    'var': 'Tumor Volume Variance',\n",
    "    'std': 'Tumor Volume Std. Dev',\n",
    "    'sem': 'Tumor Volume Std. Err.'})\n",
    "\n",
    "\n",
    "# Assemble the resulting series into a single summary DataFrame.\n",
    "summary_statistics.head()\n"
   ]
  },
  {
   "cell_type": "code",
   "execution_count": null,
   "metadata": {
    "tags": []
   },
   "outputs": [],
   "source": [
    "# A more advanced method to generate a summary statistics table of mean, median, variance, standard deviation,\n",
    "# and SEM of the tumor volume for each regimen (only one method is required in the solution)\n",
    "summary_statistics_advanced = mouse_no_duplicate.groupby(\"Drug Regimen\")[\"Tumor Volume (mm3)\"].agg(\n",
    "    mean='mean',\n",
    "    median ='median',\n",
    "    var ='var',\n",
    "    std='std',\n",
    "    sem ='sem')\n",
    "\n",
    "\n",
    "\n",
    "# Using the aggregation method, produce the same summary statistics in a single line\n",
    "# Display the data table\n",
    "summary_statistics_advanced.head()\n"
   ]
  },
  {
   "cell_type": "markdown",
   "metadata": {},
   "source": [
    "## Bar and Pie Charts"
   ]
  },
  {
   "cell_type": "code",
   "execution_count": null,
   "metadata": {
    "tags": []
   },
   "outputs": [],
   "source": [
    "# Generate a bar plot showing the total number of rows (Mouse ID/Timepoints) for each drug regimen using Pandas.\n",
    "number_drug = combined_mouse_study['Drug Regimen'].value_counts()\n",
    "number_drug.plot(kind='bar', figsize=(7,4), rot=45, color='#31668a', alpha=1.00)\n",
    "\n",
    "# Adding labels and title\n",
    "plt.xlabel('Drug Regimen')\n",
    "plt.ylabel('# of Observed Mouse Timepoints')\n",
    "\n",
    "# Display the plot\n",
    "plt.show()\n"
   ]
  },
  {
   "cell_type": "code",
   "execution_count": null,
   "metadata": {
    "tags": []
   },
   "outputs": [],
   "source": [
    "# Generate a bar plot showing the total number of rows (Mouse ID/Timepoints) for each drug regimen using pyplot.\n",
    "drug_regimens = number_drug.index\n",
    "counts = number_drug.values\n",
    "\n",
    "# Plotting using pyplot\n",
    "plt.figure(figsize=(7, 4))\n",
    "plt.bar(drug_regimens, counts, color='#31668a', alpha=1.00)\n",
    "\n",
    "# Adding labels and title\n",
    "plt.xlabel('Drug Regimen')\n",
    "plt.ylabel('# of Observed Mouse Timepoints')\n",
    "\n",
    "plt.xticks(rotation=45)  \n",
    "\n",
    "# Display the plot\n",
    "plt.show()\n"
   ]
  },
  {
   "cell_type": "code",
   "execution_count": null,
   "metadata": {
    "tags": []
   },
   "outputs": [],
   "source": [
    "# Generate a pie chart, using Pandas, showing the distribution of unique female versus male mice used in the study\n",
    "# Get the unique mice with their gender\n",
    "mice_gender = mouse_no_duplicate.drop_duplicates(subset=\"Mouse ID\")[\"Sex\"].value_counts()\n",
    "\n",
    "# Make the pie chart\n",
    "mice_gender.plot(kind='pie', autopct='%1.1f%%', figsize=(5,5), startangle=0, labels=['Male', 'Female'], colors=['#31668a', 'darkorange'])\n",
    "\n",
    "# Display the pie chart\n",
    "plt.show()\n"
   ]
  },
  {
   "cell_type": "code",
   "execution_count": null,
   "metadata": {
    "tags": []
   },
   "outputs": [],
   "source": [
    "# Generate a pie chart, using pyplot, showing the distribution of unique female versus male mice used in the study\n",
    "# Get the unique mice with their gender\n",
    "plt.figure(figsize=(5,5))\n",
    "plt.pie(mice_gender, labels=['Male', 'Female'], autopct='%1.1f%%', startangle=0, colors=['#31668a', 'darkorange'])\n",
    "\n",
    "\n",
    "# Display the pie chart\n",
    "plt.show()\n"
   ]
  },
  {
   "cell_type": "markdown",
   "metadata": {},
   "source": [
    "## Quartiles, Outliers and Boxplots"
   ]
  },
  {
   "cell_type": "code",
   "execution_count": null,
   "metadata": {
    "tags": []
   },
   "outputs": [],
   "source": [
    "# Calculate the final tumor volume of each mouse across four of the treatment regimens:\n",
    "# Capomulin, Ramicane, Infubinol, and Ceftamin\n",
    "selected_regimens = [\"Capomulin\", \"Ramicane\", \"Infubinol\", \"Ceftamin\"]\n",
    "filtered_df = mouse_no_duplicate[mouse_no_duplicate[\"Drug Regimen\"].isin(selected_regimens)]\n",
    "\n",
    "# Start by getting the last (greatest) timepoint for each mouse\n",
    "last_timepoints = filtered_df.groupby(\"Mouse ID\")[\"Timepoint\"].max().reset_index()\n",
    "\n",
    "# Merge this group df with the original DataFrame to get the tumor volume at the last timepoint\n",
    "last_timepoints = filtered_df.groupby(\"Mouse ID\")[\"Timepoint\"].max().reset_index()\n",
    "final_tumor_volume_df = pd.merge(last_timepoints, filtered_df, on=[\"Mouse ID\", \"Timepoint\"], how=\"left\")\n",
    "\n",
    "# Display the data table\n",
    "final_tumor_volume_df.head()\n"
   ]
  },
  {
   "cell_type": "code",
   "execution_count": null,
   "metadata": {
    "tags": []
   },
   "outputs": [],
   "source": [
    "# Put treatments into a list for for loop (and later for plot labels)\n",
    "treatments = [\"Capomulin\", \"Ramicane\", \"Infubinol\", \"Ceftamin\"]\n",
    "\n",
    "\n",
    "# Create empty list to fill with tumor vol data (for plotting)\n",
    "tumor_vol_data = []\n",
    "\n",
    "# Calculate the IQR and quantitatively determine if there are any potential outliers.\n",
    "for treatment in treatments:\n",
    "\n",
    "    # Locate the rows which contain mice on each drug and get the tumor volumes\n",
    "    treatment_data = final_tumor_volume_df[final_tumor_volume_df[\"Drug Regimen\"] == treatment][\"Tumor Volume (mm3)\"]\n",
    "\n",
    "    # add subset\n",
    "    tumor_vol_data.append(treatment_data)\n",
    "    \n",
    "    quartiles = treatment_data.quantile([.25, .5, .75])\n",
    "    lowerq = quartiles[0.25]\n",
    "    upperq = quartiles[0.75]\n",
    "    iqr = upperq - lowerq\n",
    "\n",
    "    # Determine outliers using upper and lower bounds\n",
    "    lower_bound = lowerq - (1.5 * iqr)\n",
    "    upper_bound = upperq + (1.5 * iqr)\n",
    "    outliers = treatment_data[(treatment_data < lower_bound) | (treatment_data > upper_bound)]\n",
    "    \n",
    "    print(f\"{treatment}'s potential outliers: {outliers}\")\n"
   ]
  },
  {
   "cell_type": "code",
   "execution_count": null,
   "metadata": {
    "tags": []
   },
   "outputs": [],
   "source": [
    "# Generate a box plot that shows the distribution of the tumor volume for each treatment group.\n",
    "fig1, ax1 = plt.subplots(figsize=(6, 4))\n",
    "selected_regimens = [\"Capomulin\", \"Ramicane\", \"Infubinol\", \"Ceftamin\"]\n",
    "data_plot = [final_tumor_volume_df[final_tumor_volume_df[\"Drug Regimen\"] == regimen][\"Tumor Volume (mm3)\"] for regimen in selected_regimens]\n",
    "flierprops = dict(marker='o', markerfacecolor='red', markersize=8)\n",
    "ax1.boxplot(data_plot, labels=selected_regimens, flierprops=flierprops)\n",
    "ax1.set_ylabel('Final Tumor Volume (mm3)')\n",
    "\n",
    "# Display the plot\n",
    "plt.show()\n"
   ]
  },
  {
   "cell_type": "markdown",
   "metadata": {},
   "source": [
    "## Line and Scatter Plots"
   ]
  },
  {
   "cell_type": "code",
   "execution_count": null,
   "metadata": {
    "tags": []
   },
   "outputs": [],
   "source": [
    "# Generate a line plot of tumor volume vs. time point for a single mouse treated with Capomulin\n",
    "capomulin_data = combined_mouse_study[combined_mouse_study[\"Drug Regimen\"] == \"Capomulin\"]\n",
    "mouse_id = \"l509\"\n",
    "single_mouse_data = capomulin_data[capomulin_data[\"Mouse ID\"] == mouse_id]\n",
    "if not single_mouse_data.empty:\n",
    "    plt.figure(figsize=(6, 5))\n",
    "    plt.plot(single_mouse_data[\"Timepoint\"], single_mouse_data[\"Tumor Volume (mm3)\"], marker='o', linestyle='-', color='#31668a')\n",
    "    \n",
    "    plt.title(f'Campulin treatment of mouse l509')\n",
    "    plt.xlabel('Time Point (days)')\n",
    "    plt.ylabel('Tumor Volume (mm3)')\n",
    "\n",
    "# Display the plot\n",
    "    plt.show()\n",
    "\n",
    "else:\n",
    "    print(f\"No data found for Mouse ID {mouse_id} treated with Capomulin.\")\n"
   ]
  },
  {
   "cell_type": "code",
   "execution_count": null,
   "metadata": {
    "tags": []
   },
   "outputs": [],
   "source": [
    "# Generate a scatter plot of mouse weight vs. the average observed tumor volume for the entire Capomulin regimen\n",
    "average_tumor_volume = capomulin_data.groupby(\"Mouse ID\").agg({\n",
    "    \"Tumor Volume (mm3)\": \"mean\",\n",
    "    \"Weight (g)\": \"mean\"  \n",
    "}).reset_index()\n",
    "plt.figure(figsize=(6, 5))\n",
    "plt.scatter(average_tumor_volume[\"Weight (g)\"], average_tumor_volume[\"Tumor Volume (mm3)\"], color='#31668a', alpha=1.00)\n",
    "plt.xlabel('Weight (g)')\n",
    "plt.ylabel('Average Tumor Volume (mm3)')\n",
    "\n",
    "# Display the plot\n",
    "plt.show()\n"
   ]
  },
  {
   "cell_type": "markdown",
   "metadata": {},
   "source": [
    "## Correlation and Regression"
   ]
  },
  {
   "cell_type": "code",
   "execution_count": null,
   "metadata": {
    "tags": []
   },
   "outputs": [],
   "source": [
    "# Calculate the correlation coefficient and a linear regression model\n",
    "# for mouse weight and average observed tumor volume for the entire Capomulin regimen\n",
    "correlation = st.pearsonr(average_tumor_volume[\"Weight (g)\"], average_tumor_volume[\"Tumor Volume (mm3)\"])\n",
    "correlation_coefficient = correlation[0]\n",
    "slope, intercept, r_value, p_value_regression, std_err = st.linregress(average_tumor_volume[\"Weight (g)\"], average_tumor_volume[\"Tumor Volume (mm3)\"])\n",
    "x_values = average_tumor_volume[\"Weight (g)\"]\n",
    "y_values = slope * x_values + intercept\n",
    "plt.figure(figsize=(6, 5))\n",
    "plt.scatter(average_tumor_volume[\"Weight (g)\"], average_tumor_volume[\"Tumor Volume (mm3)\"], color='#31668a', alpha=1.00, label='Observed Data')\n",
    "plt.plot(x_values, y_values, color='red', linewidth=2, label='Linear Regression Line')\n",
    "plt.xlabel('Weight (g)')\n",
    "plt.ylabel('Average Tumor Volume (mm3)')\n",
    "\n",
    "# Display the plot\n",
    "plt.show()\n"
   ]
  },
  {
   "cell_type": "code",
   "execution_count": null,
   "metadata": {},
   "outputs": [],
   "source": []
  }
 ],
 "metadata": {
  "anaconda-cloud": {},
  "kernelspec": {
   "display_name": "Python 3 (ipykernel)",
   "language": "python",
   "name": "python3"
  },
  "language_info": {
   "codemirror_mode": {
    "name": "ipython",
    "version": 3
   },
   "file_extension": ".py",
   "mimetype": "text/x-python",
   "name": "python",
   "nbconvert_exporter": "python",
   "pygments_lexer": "ipython3",
   "version": "3.11.7"
  }
 },
 "nbformat": 4,
 "nbformat_minor": 4
}
